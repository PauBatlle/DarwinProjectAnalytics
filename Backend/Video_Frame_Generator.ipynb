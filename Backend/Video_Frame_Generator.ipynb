{
 "cells": [
  {
   "cell_type": "code",
   "execution_count": 1,
   "metadata": {},
   "outputs": [],
   "source": [
    "import pandas as pd\n",
    "import numpy as np\n",
    "import matplotlib.pyplot as plt\n",
    "import os\n",
    "import sqlite3\n",
    "import base64\n",
    "from tqdm import tqdm_notebook as t\n",
    "%matplotlib inline"
   ]
  },
  {
   "cell_type": "code",
   "execution_count": 2,
   "metadata": {},
   "outputs": [],
   "source": [
    "import matplotlib.pyplot as plt\n",
    "import numpy as np\n",
    "import matplotlib.path as mpath\n",
    "import matplotlib.lines as mlines\n",
    "import matplotlib.patches as mpatches\n",
    "from matplotlib.collections import PatchCollection\n",
    "\n",
    "from scipy.spatial import Voronoi, voronoi_plot_2d\n"
   ]
  },
  {
   "cell_type": "code",
   "execution_count": 3,
   "metadata": {},
   "outputs": [],
   "source": [
    "N = 2687592411512374403\n",
    "\n",
    "d = {}\n",
    "for i in os.listdir(str(N)):\n",
    "    if i[-4:] == \".csv\":\n",
    "        d[i[:-4]] = pd.read_csv(os.path.join(str(N),i))\n",
    "\n",
    "def dessida(l):\n",
    "    if type(l) != str:\n",
    "        return l\n",
    "    llista = eval(l)\n",
    "    for dic in llista:\n",
    "        dic['data'] = base64.b64decode(dic['data'])\n",
    "    return llista\n",
    "\n",
    "d['player_state'] = d['player_state'][d['player_state'].posX >= -80000]\n",
    "\n",
    "N1 = d['game_frame'].events.dropna().index[0]\n",
    "\n",
    "d['game_frame'] = d['game_frame'].iloc[N1+1:]\n",
    "\n",
    "d['game_frame'].events = d['game_frame'].events.apply(dessida)\n",
    "\n",
    "ps = d['player_state']\n",
    "\n",
    "ps = ps.sort_values(\"framenumber\")"
   ]
  },
  {
   "cell_type": "code",
   "execution_count": 4,
   "metadata": {},
   "outputs": [],
   "source": [
    "llista_frames = ps.framenumber.unique()"
   ]
  },
  {
   "cell_type": "code",
   "execution_count": 5,
   "metadata": {},
   "outputs": [
    {
     "data": {
      "text/plain": [
       "[('Angel_Hahn', 37739),\n",
       " ('Christopher_Cox', 37315),\n",
       " ('Stacy_Butler', 34503),\n",
       " ('Hector_Higgins', 30893),\n",
       " ('Pro', 24518),\n",
       " ('Sherry_Wong', 18994),\n",
       " ('Samantha_Martinez', 18511),\n",
       " ('Misty_Jones', 16129),\n",
       " ('Michael_Lewis', 15417),\n",
       " ('Yvonne_Haas', 13241)]"
      ]
     },
     "execution_count": 5,
     "metadata": {},
     "output_type": "execute_result"
    }
   ],
   "source": [
    "jugadors = ps.playerguid.unique()\n",
    "\n",
    "posicions = {}\n",
    "for k in jugadors:\n",
    "    posicions[k] = (ps.posX[ps.playerguid == k], ps.posY[ps.playerguid == k], ps.posZ[ps.playerguid == k])\n",
    "\n",
    "ps = d['player_state']\n",
    "\n",
    "ps = ps.sort_values(\"framenumber\")\n",
    "\n",
    "def ultim_frame_on_apareix_un_pavo(pavo):\n",
    "    return ps.framenumber[ps.playerguid == pavo].max()\n",
    "\n",
    "#Classificacio\n",
    "classi = sorted([(i, ultim_frame_on_apareix_un_pavo(i)) for i in jugadors], key = lambda x: x[1], reverse = True)\n",
    "classi"
   ]
  },
  {
   "cell_type": "code",
   "execution_count": 6,
   "metadata": {},
   "outputs": [
    {
     "data": {
      "image/png": "[encoded data removed]",
      "text/plain": [
       "<Figure size 432x288 with 1 Axes>"
      ]
     },
     "metadata": {
      "needs_background": "light"
     },
     "output_type": "display_data"
    }
   ],
   "source": [
    "for k in jugadors:\n",
    "    xs = posicions[k][0][:100]\n",
    "    ys = posicions[k][1][:100]\n",
    "    plt.scatter(xs,ys, s = 1)dd"
   ]
  },
  {
   "cell_type": "code",
   "execution_count": 12,
   "metadata": {},
   "outputs": [],
   "source": [
    "xmax = 78080\n",
    "xmin = -77940\n",
    "ymax = 75060\n",
    "ymin = -75040\n",
    "\n",
    "dx = xmax-xmin\n",
    "dy = ymax-ymin\n",
    "\n",
    "import matplotlib.pyplot as plt\n",
    "import numpy as np\n",
    "import matplotlib.path as mpath\n",
    "import matplotlib.lines as mlines\n",
    "import matplotlib.patches as mpatches\n",
    "from matplotlib.collections import PatchCollection\n",
    "\n",
    "from scipy.spatial import Voronoi, voronoi_plot_2d\n",
    "def f(ii):\n",
    "    \"\"\"Generates one frame of the first animation \"\"\"\n",
    "    cos30 = 0.86602540378\n",
    "    centres = [(0,0),(dx/3, 0),(-dx/3, 0.0),(dx/6, cos30*dx/3),(-dx/6, cos30*dx/3),(dx/6, -cos30*dx/3),(-dx/6, -cos30*dx/3)]\n",
    "    fig, ax = plt.subplots()\n",
    "    #voronoi_plot_2d(Voronoi(list(zip(xs,ys))))\n",
    "\n",
    "\n",
    "    # plot\n",
    "    #regions, vertices = voronoi_finite_polygons_2d(Voronoi(list(zip(xs,ys))))\n",
    "\n",
    "    # colorize\n",
    "    patches = []\n",
    "    # create 3x3 grid to plot the artists\n",
    "\n",
    "    # add a Polygon\n",
    "    polygon = mpatches.RegularPolygon((0.0, 0.0), 6, dx/6/cos30)\n",
    "    patches.append(polygon)\n",
    "\n",
    "    polygon2 = mpatches.RegularPolygon((dx/3, 0), 6, dx/6/cos30, alpha = 0)\n",
    "    patches.append(polygon2)\n",
    "\n",
    "    polygon3 = mpatches.RegularPolygon((-dx/3, 0.0), 6, dx/6/cos30, alpha = 0)\n",
    "    patches.append(polygon3)\n",
    "\n",
    "    polygon4 = mpatches.RegularPolygon((dx/6, cos30*dx/3), 6, dx/6/cos30, alpha = 0)\n",
    "    patches.append(polygon4)\n",
    "\n",
    "    polygon5 = mpatches.RegularPolygon((-dx/6, cos30*dx/3), 6, dx/6/cos30, alpha = 0)\n",
    "    patches.append(polygon5)\n",
    "\n",
    "    polygon6 = mpatches.RegularPolygon((dx/6, -cos30*dx/3), 6, dx/6/cos30, alpha = 0)\n",
    "    patches.append(polygon6)\n",
    "\n",
    "    polygon7 = mpatches.RegularPolygon((-dx/6, -cos30*dx/3), 6, dx/6/cos30, alpha = 0)\n",
    "    patches.append(polygon7)\n",
    "\n",
    "\n",
    "    #voronoi_plot_2d(Voronoi(list(zip(xs,ys))), ax = ax, show_vertices = False, point_size = 10)\n",
    "    colors = np.linspace(0, 0.1, len(patches)+1)\n",
    "    collection = PatchCollection(patches, alpha=1, cmap = 'gist_gray', lw = 1)\n",
    "    collection.set_array(np.array([colors[0]]*7))\n",
    "    collection.set_facecolor('none')\n",
    "    collection.set_edgecolor([(1,1,1)])\n",
    "\n",
    "    ax.add_collection(collection)\n",
    "    for i in centres:\n",
    "        plt.scatter(i[0],i[1], marker = 'x', s = 0, color = 'black')\n",
    "\n",
    "        \"\"\"\n",
    "    for region in regions:\n",
    "        polygon = vertices[region]\n",
    "        plt.fill(*zip(*polygon), alpha=0.4)\n",
    "    \"\"\"\n",
    "    plt.axis('equal')\n",
    "    plt.axis('off')\n",
    "    plt.xlim([-xmax,xmax])\n",
    "    plt.ylim([ymin,ymax])\n",
    "\n",
    "    plt.tight_layout()\n",
    "\n",
    "    for k in jugadors:\n",
    "        xs = posicions[k][0][max(0,ii-1000):ii]\n",
    "        ys = posicions[k][1][max(0,ii-1000):ii]\n",
    "        plt.scatter(xs,ys, s = 10)\n",
    "    \n",
    "    plt.savefig(str(ii)+\".png\")"
   ]
  },
  {
   "cell_type": "code",
   "execution_count": 11,
   "metadata": {},
   "outputs": [
    {
     "data": {
      "image/png": "[encoded data removed]",
      "text/plain": [
       "<Figure size 432x288 with 1 Axes>"
      ]
     },
     "metadata": {
      "needs_background": "light"
     },
     "output_type": "display_data"
    }
   ],
   "source": [
    "f(200)"
   ]
  },
  {
   "cell_type": "code",
   "execution_count": 13,
   "metadata": {},
   "outputs": [],
   "source": [
    "\"\"\"Auxiliary quaternion algebra \"\"\"\n",
    "\n",
    "def q_conjugate(q):\n",
    "    w, x, y, z = q\n",
    "    return (w, -x, -y, -z)\n",
    "\n",
    "def q_mult(q1, q2):\n",
    "    w1, x1, y1, z1 = q1\n",
    "    w2, x2, y2, z2 = q2\n",
    "    w = w1 * w2 - x1 * x2 - y1 * y2 - z1 * z2\n",
    "    x = w1 * x2 + x1 * w2 + y1 * z2 - z1 * y2\n",
    "    y = w1 * y2 + y1 * w2 + z1 * x2 - x1 * z2\n",
    "    z = w1 * z2 + z1 * w2 + x1 * y2 - y1 * x2\n",
    "    return w, x, y, z\n",
    "\n",
    "def qv_mult(q1, v1):\n",
    "    q2 = (0.0,) + v1\n",
    "    return q_mult(q_mult(q1, q2), q_conjugate(q1))[1:]"
   ]
  },
  {
   "cell_type": "code",
   "execution_count": 14,
   "metadata": {},
   "outputs": [],
   "source": [
    "def on_esta(pavo, frame):\n",
    "    aux = ps[(ps.playerguid == pavo) & (ps.framenumber == frame)]\n",
    "    if len(aux) > 0:\n",
    "        aux = aux.iloc[0]\n",
    "    else:\n",
    "        return [None]*3\n",
    "    return (aux.posX, aux.posY, aux.posZ)\n",
    "\n",
    "def a_on_mira(pavo, frame):\n",
    "    aux = ps[(ps.playerguid == pavo) & (ps.framenumber == frame)]\n",
    "    if len(aux) > 0:\n",
    "        aux = aux.iloc[0]\n",
    "    else:\n",
    "        return [None]*3\n",
    "    quaternio = (aux.viewW, aux.viewX, aux.viewY, aux.viewZ)\n",
    "    return qv_mult(quaternio, (1,0,0))\n",
    "    "
   ]
  },
  {
   "cell_type": "code",
   "execution_count": 17,
   "metadata": {},
   "outputs": [],
   "source": [
    "def qui_esta_viu(frame):\n",
    "    return [i[0] for i in classi if i[1] > frame]"
   ]
  },
  {
   "cell_type": "code",
   "execution_count": 18,
   "metadata": {},
   "outputs": [
    {
     "data": {
      "application/vnd.jupyter.widget-view+json": {
       "model_id": "d7876fb40ce94af08417443bbc7af2d4",
       "version_major": 2,
       "version_minor": 0
      },
      "text/plain": [
       "HBox(children=(IntProgress(value=0, max=5000), HTML(value='')))"
      ]
     },
     "metadata": {},
     "output_type": "display_data"
    },
    {
     "name": "stdout",
     "output_type": "stream",
     "text": [
      "\n"
     ]
    }
   ],
   "source": [
    "l_pos = []\n",
    "for r in t(range(len(llista_frames[:5000]))):\n",
    "    radi = 10000\n",
    "    jugadors_vius = qui_esta_viu(llista_frames[r]) #Ordre canònic\n",
    "    #posi = [[posicions[kk][0].iloc[r], posicions[kk][1].iloc[r]] for kk in jugadors_vius]\n",
    "    on_miren = [a_on_mira(i, llista_frames[r])[0:2] for i in jugadors_vius]\n",
    "    on_miren = [i/np.linalg.norm(i) if i[0] != None else None for i in on_miren]\n",
    "    l_pos.append(on_miren)"
   ]
  },
  {
   "cell_type": "code",
   "execution_count": 19,
   "metadata": {},
   "outputs": [],
   "source": [
    "def ff(ii):\n",
    "    cos30 = 0.86602540378\n",
    "    centres = [(0,0),(dx/3, 0),(-dx/3, 0.0),(dx/6, cos30*dx/3),(-dx/6, cos30*dx/3),(dx/6, -cos30*dx/3),(-dx/6, -cos30*dx/3)]\n",
    "    fig, ax = plt.subplots()\n",
    "    #voronoi_plot_2d(Voronoi(list(zip(xs,ys))))\n",
    "    # plot\n",
    "    #regions, vertices = voronoi_finite_polygons_2d(Voronoi(list(zip(xs,ys))))\n",
    "\n",
    "    # colorize\n",
    "\n",
    "    # create 3x3 grid to plot the artists\n",
    "\n",
    "    # add a Polygon\n",
    "    polygon = mpatches.RegularPolygon((0.0, 0.0), 6, dx/6/cos30)\n",
    "    patches.append(polygon)\n",
    "\n",
    "    polygon2 = mpatches.RegularPolygon((dx/3, 0), 6, dx/6/cos30, alpha = 0)\n",
    "    patches.append(polygon2)\n",
    "\n",
    "    polygon3 = mpatches.RegularPolygon((-dx/3, 0.0), 6, dx/6/cos30, alpha = 0)\n",
    "    patches.append(polygon3)\n",
    "\n",
    "    polygon4 = mpatches.RegularPolygon((dx/6, cos30*dx/3), 6, dx/6/cos30, alpha = 0)\n",
    "    patches.append(polygon4)\n",
    "\n",
    "    polygon5 = mpatches.RegularPolygon((-dx/6, cos30*dx/3), 6, dx/6/cos30, alpha = 0)\n",
    "    patches.append(polygon5)\n",
    "\n",
    "    polygon6 = mpatches.RegularPolygon((dx/6, -cos30*dx/3), 6, dx/6/cos30, alpha = 0)\n",
    "    patches.append(polygon6)\n",
    "\n",
    "    polygon7 = mpatches.RegularPolygon((-dx/6, -cos30*dx/3), 6, dx/6/cos30, alpha = 0)\n",
    "    patches.append(polygon7)\n",
    "\n",
    "\n",
    "    #voronoi_plot_2d(Voronoi(list(zip(xs,ys))), ax = ax, show_vertices = False, point_size = 10)\n",
    "    colors = np.linspace(0, 0.1, len(patches)+1)\n",
    "    collection = PatchCollection(patches, alpha=1, cmap = 'gist_gray', lw = 1)\n",
    "    collection.set_array(np.array([colors[0]]*7))\n",
    "    collection.set_facecolor('none')\n",
    "    collection.set_edgecolor([(1,1,1)])\n",
    "\n",
    "    ax.add_collection(collection)\n",
    "    for i in centres:\n",
    "        plt.scatter(i[0],i[1], marker = 'x', s = 0, color = 'black')\n",
    "\n",
    "        \"\"\"\n",
    "    for region in regions:\n",
    "        polygon = vertices[region]\n",
    "        plt.fill(*zip(*polygon), alpha=0.4)\n",
    "    \"\"\"\n",
    "    plt.axis('equal')\n",
    "    plt.axis('off')\n",
    "    plt.xlim([-xmax,xmax])\n",
    "    plt.ylim([ymin,ymax])\n",
    "\n",
    "    for k in jugadors:\n",
    "        xs = posicions[k][0][max(0,ii-1000):ii]\n",
    "        ys = posicions[k][1][max(0,ii-1000):ii]\n",
    "        plt.scatter(xs,ys, s = 10)\n",
    "    \n",
    "    plt.savefig(str(ii)+\".png\")\n",
    "    plt.close()"
   ]
  },
  {
   "cell_type": "code",
   "execution_count": 20,
   "metadata": {},
   "outputs": [],
   "source": [
    "def accl_pos(i,j,k):\n",
    "    #frame particula eix\n",
    "    if type(l_pos[i][j]) == type(l_pos[0][0]):\n",
    "        return l_pos[i][j][k]\n",
    "    else: \n",
    "        return accl_pos(i-1,j,k)"
   ]
  },
  {
   "cell_type": "code",
   "execution_count": 22,
   "metadata": {},
   "outputs": [],
   "source": [
    "def destinacio(x1,y1,x2,y2, r = 7500*3.14):\n",
    "    [x2,y2] = [x2,y2]/np.linalg.norm([x2,y2])\n",
    "    return x1 + r*x2, y1 + r*y2"
   ]
  },
  {
   "cell_type": "code",
   "execution_count": 23,
   "metadata": {},
   "outputs": [],
   "source": [
    "import math\n",
    "def rotate_around_point_lowperf(point, radians, origin=(0, 0)):\n",
    "    \"\"\"Rotate a point around a given point.\n",
    "    \n",
    "    I call this the \"low performance\" version since it's recalculating\n",
    "    the same values more than once [cos(radians), sin(radians), x-ox, y-oy).\n",
    "    It's more readable than the next function, though.\n",
    "    \"\"\"\n",
    "    x, y = point\n",
    "    ox, oy = origin\n",
    "\n",
    "    qx = ox + math.cos(radians) * (x - ox) + math.sin(radians) * (y - oy)\n",
    "    qy = oy + -math.sin(radians) * (x - ox) + math.cos(radians) * (y - oy)\n",
    "\n",
    "    return qx, qy"
   ]
  },
  {
   "cell_type": "code",
   "execution_count": 29,
   "metadata": {},
   "outputs": [],
   "source": [
    "def gg(frame):\n",
    "    cos30 = 0.86602540378\n",
    "    centres = [(0,0),(dx/3, 0),(-dx/3, 0.0),(dx/6, cos30*dx/3),(-dx/6, cos30*dx/3),(dx/6, -cos30*dx/3),(-dx/6, -cos30*dx/3)]\n",
    "    fig, ax = plt.subplots()\n",
    "    #voronoi_plot_2d(Voronoi(list(zip(xs,ys))))\n",
    "    # plot\n",
    "    #regions, vertices = voronoi_finite_polygons_2d(Voronoi(list(zip(xs,ys))))\n",
    "\n",
    "    # colorize\n",
    "    patches = []\n",
    "    # create 3x3 grid to plot the artists\n",
    "\n",
    "    # add a Polygon\n",
    "    polygon = mpatches.RegularPolygon((0.0, 0.0), 6, dx/6/cos30)\n",
    "    patches.append(polygon)\n",
    "\n",
    "    polygon2 = mpatches.RegularPolygon((dx/3, 0), 6, dx/6/cos30, alpha = 0)\n",
    "    patches.append(polygon2)\n",
    "\n",
    "    polygon3 = mpatches.RegularPolygon((-dx/3, 0.0), 6, dx/6/cos30, alpha = 0)\n",
    "    patches.append(polygon3)\n",
    "\n",
    "    polygon4 = mpatches.RegularPolygon((dx/6, cos30*dx/3), 6, dx/6/cos30, alpha = 0)\n",
    "    patches.append(polygon4)\n",
    "\n",
    "    polygon5 = mpatches.RegularPolygon((-dx/6, cos30*dx/3), 6, dx/6/cos30, alpha = 0)\n",
    "    patches.append(polygon5)\n",
    "\n",
    "    polygon6 = mpatches.RegularPolygon((dx/6, -cos30*dx/3), 6, dx/6/cos30, alpha = 0)\n",
    "    patches.append(polygon6)\n",
    "\n",
    "    polygon7 = mpatches.RegularPolygon((-dx/6, -cos30*dx/3), 6, dx/6/cos30, alpha = 0)\n",
    "    patches.append(polygon7)\n",
    "\n",
    "\n",
    "    #voronoi_plot_2d(Voronoi(list(zip(xs,ys))), ax = ax, show_vertices = False, point_size = 10)\n",
    "    colors = np.linspace(0, 0.1, len(patches)+1)\n",
    "    collection = PatchCollection(patches, alpha=1, cmap = 'gist_gray', lw = 1)\n",
    "    collection.set_array(np.array([colors[0]]*7))\n",
    "    collection.set_facecolor('none')\n",
    "    collection.set_edgecolor([(1,1,1)])\n",
    "\n",
    "    ax.add_collection(collection)\n",
    "    for i in centres:\n",
    "        plt.scatter(i[0],i[1], marker = 'x', s = 0, color = 'black')\n",
    "\n",
    "    \"\"\"\n",
    "    for region in regions:\n",
    "    polygon = vertices[region]\n",
    "    plt.fill(*zip(*polygon), alpha=0.4)\n",
    "    \"\"\"\n",
    "    plt.axis('equal')\n",
    "    plt.axis('off')\n",
    "    plt.xlim([-xmax,xmax])\n",
    "    plt.ylim([ymin,ymax])\n",
    "\n",
    "    xs = [posicions[k][0].iloc[frame] for k in jugadors]\n",
    "    ys = [posicions[k][1].iloc[frame] for k in jugadors]\n",
    "    xss = [accl_pos(frame,i,0) for i in range(len(l_pos[0]))]\n",
    "    yss = [accl_pos(frame,i,1) for i in range(len(l_pos[0]))]\n",
    "    for i in range(len(xs)):\n",
    "        plt.scatter(xs[i], ys[i])\n",
    "        plt.scatter(xs[i], ys[i], s=3500**1/2, facecolors='none', edgecolors='r')\n",
    "        x_n, y_n = destinacio(xs[i], ys[i], xss[i], yss[i])\n",
    "        x_nn, y_nn = rotate_around_point_lowperf((x_n, y_n), 3.14/4, origin = (xs[i], ys[i]))\n",
    "        x_nnn, y_nnn = rotate_around_point_lowperf((x_n, y_n), -3.14/4, origin = (xs[i], ys[i]))\n",
    "\n",
    "        #plt.plot([xs[i], x_n], [ys[i], y_n], 'k-', lw=2)\n",
    "        plt.plot([xs[i], x_nn], [ys[i], y_nn], 'k-', lw=1)\n",
    "        plt.plot([xs[i], x_nnn], [ys[i], y_nnn], 'k-', lw=1)\n",
    "    plt.savefig(\"look\"+str(frame)+\".png\")\n",
    "    plt.show()\n",
    "    #plt.close('all')"
   ]
  },
  {
   "cell_type": "code",
   "execution_count": 30,
   "metadata": {
    "scrolled": true
   },
   "outputs": [
    {
     "data": {
      "text/plain": [
       "array([10029, 10031, 10033, ..., 37735, 37737, 37739])"
      ]
     },
     "execution_count": 30,
     "metadata": {},
     "output_type": "execute_result"
    }
   ],
   "source": [
    "llista_frames"
   ]
  },
  {
   "cell_type": "code",
   "execution_count": 31,
   "metadata": {},
   "outputs": [
    {
     "data": {
      "image/png": "[encoded data removed]",
      "text/plain": [
       "<Figure size 432x288 with 1 Axes>"
      ]
     },
     "metadata": {
      "needs_background": "light"
     },
     "output_type": "display_data"
    }
   ],
   "source": [
    "gg(200)"
   ]
  },
  {
   "cell_type": "code",
   "execution_count": 32,
   "metadata": {},
   "outputs": [],
   "source": [
    "def voronoi_finite_polygons_2d(vor, radius=None):\n",
    "    \"\"\"\n",
    "    Reconstruct infinite voronoi regions in a 2D diagram to finite\n",
    "    regions.\n",
    "    Parameters\n",
    "    ----------\n",
    "    vor : Voronoi\n",
    "        Input diagram\n",
    "    radius : float, optional\n",
    "        Distance to 'points at infinity'.\n",
    "    Returns\n",
    "    -------\n",
    "    regions : list of tuples\n",
    "        Indices of vertices in each revised Voronoi regions.\n",
    "    vertices : list of tuples\n",
    "        Coordinates for revised Voronoi vertices. Same as coordinates\n",
    "        of input vertices, with 'points at infinity' appended to the\n",
    "        end.\n",
    "    \"\"\"\n",
    "\n",
    "    if vor.points.shape[1] != 2:\n",
    "        raise ValueError(\"Requires 2D input\")\n",
    "\n",
    "    new_regions = []\n",
    "    new_vertices = vor.vertices.tolist()\n",
    "\n",
    "    center = vor.points.mean(axis=0)\n",
    "    if radius is None:\n",
    "        radius = vor.points.ptp().max()*2\n",
    "\n",
    "    # Construct a map containing all ridges for a given point\n",
    "    all_ridges = {}\n",
    "    for (p1, p2), (v1, v2) in zip(vor.ridge_points, vor.ridge_vertices):\n",
    "        all_ridges.setdefault(p1, []).append((p2, v1, v2))\n",
    "        all_ridges.setdefault(p2, []).append((p1, v1, v2))\n",
    "\n",
    "    # Reconstruct infinite regions\n",
    "    for p1, region in enumerate(vor.point_region):\n",
    "        vertices = vor.regions[region]\n",
    "\n",
    "        if all(v >= 0 for v in vertices):\n",
    "            # finite region\n",
    "            new_regions.append(vertices)\n",
    "            continue\n",
    "\n",
    "        # reconstruct a non-finite region\n",
    "        ridges = all_ridges[p1]\n",
    "        new_region = [v for v in vertices if v >= 0]\n",
    "\n",
    "        for p2, v1, v2 in ridges:\n",
    "            if v2 < 0:\n",
    "                v1, v2 = v2, v1\n",
    "            if v1 >= 0:\n",
    "                # finite ridge: already in the region\n",
    "                continue\n",
    "\n",
    "            # Compute the missing endpoint of an infinite ridge\n",
    "\n",
    "            t = vor.points[p2] - vor.points[p1] # tangent\n",
    "            t /= np.linalg.norm(t)\n",
    "            n = np.array([-t[1], t[0]])  # normal\n",
    "\n",
    "            midpoint = vor.points[[p1, p2]].mean(axis=0)\n",
    "            direction = np.sign(np.dot(midpoint - center, n)) * n\n",
    "            far_point = vor.vertices[v2] + direction * radius\n",
    "\n",
    "            new_region.append(len(new_vertices))\n",
    "            new_vertices.append(far_point.tolist())\n",
    "\n",
    "        # sort region counterclockwise\n",
    "        vs = np.asarray([new_vertices[v] for v in new_region])\n",
    "        c = vs.mean(axis=0)\n",
    "        angles = np.arctan2(vs[:,1] - c[1], vs[:,0] - c[0])\n",
    "        new_region = np.array(new_region)[np.argsort(angles)]\n",
    "\n",
    "        # finish\n",
    "        new_regions.append(new_region.tolist())\n",
    "\n",
    "    return new_regions, np.asarray(new_vertices)"
   ]
  },
  {
   "cell_type": "code",
   "execution_count": 33,
   "metadata": {},
   "outputs": [
    {
     "data": {
      "text/plain": [
       "[10283, 16028, 3330, 3669, 9437, 1156, 2115, 10322, 11639, 2693]"
      ]
     },
     "execution_count": 33,
     "metadata": {},
     "output_type": "execute_result"
    }
   ],
   "source": [
    "[len(posicions[k][0]) for k in jugadors]"
   ]
  },
  {
   "cell_type": "code",
   "execution_count": 36,
   "metadata": {},
   "outputs": [],
   "source": [
    "xmax = 78080\n",
    "xmin = -77940\n",
    "ymax = 75060\n",
    "ymin = -75040\n",
    "\n",
    "dx = xmax-xmin\n",
    "dy = ymax-ymin\n",
    "\n",
    "import matplotlib.pyplot as plt\n",
    "import numpy as np\n",
    "import matplotlib.path as mpath\n",
    "import matplotlib.lines as mlines\n",
    "import matplotlib.patches as mpatches\n",
    "from matplotlib.collections import PatchCollection\n",
    "\n",
    "from scipy.spatial import Voronoi, voronoi_plot_2d\n",
    "\n",
    "def hh(frame):\n",
    "    \n",
    "    \"\"\"Generates one frame of voronoi diagram\"\"\"\n",
    "    cos30 = 0.86602540378\n",
    "    centres = [(0,0),(dx/3, 0),(-dx/3, 0.0),(dx/6, cos30*dx/3),(-dx/6, cos30*dx/3),(dx/6, -cos30*dx/3),(-dx/6, -cos30*dx/3)]\n",
    "    fig, ax = plt.subplots()\n",
    "    #voronoi_plot_2d(Voronoi(list(zip(xs,ys))))\n",
    "    jugadors_vius = qui_esta_viu(llista_frames[frame+2])\n",
    "    \n",
    "    xs = [posicions[k][0].iloc[frame] for k in jugadors_vius]\n",
    "    ys = [posicions[k][1].iloc[frame] for k in jugadors_vius]\n",
    "\n",
    "    \n",
    "    # plot\n",
    "    vor = Voronoi(list(zip(xs,ys)))\n",
    "    regions, vertices = voronoi_finite_polygons_2d(vor)\n",
    "\n",
    "    # colorize\n",
    "\n",
    "    # create 3x3 grid to plot the artists\n",
    "    patches = []\n",
    "\n",
    "    # add a Polygon\n",
    "    polygon = mpatches.RegularPolygon((0.0, 0.0), 6, dx/6/cos30)\n",
    "    patches.append(polygon)\n",
    "\n",
    "    polygon2 = mpatches.RegularPolygon((dx/3, 0), 6, dx/6/cos30, alpha = 0)\n",
    "    patches.append(polygon2)\n",
    "\n",
    "    polygon3 = mpatches.RegularPolygon((-dx/3, 0.0), 6, dx/6/cos30, alpha = 0)\n",
    "    patches.append(polygon3)\n",
    "\n",
    "    polygon4 = mpatches.RegularPolygon((dx/6, cos30*dx/3), 6, dx/6/cos30, alpha = 0)\n",
    "    patches.append(polygon4)\n",
    "\n",
    "    polygon5 = mpatches.RegularPolygon((-dx/6, cos30*dx/3), 6, dx/6/cos30, alpha = 0)\n",
    "    patches.append(polygon5)\n",
    "\n",
    "    polygon6 = mpatches.RegularPolygon((dx/6, -cos30*dx/3), 6, dx/6/cos30, alpha = 0)\n",
    "    patches.append(polygon6)\n",
    "\n",
    "    polygon7 = mpatches.RegularPolygon((-dx/6, -cos30*dx/3), 6, dx/6/cos30, alpha = 0)\n",
    "    patches.append(polygon7)\n",
    "\n",
    "    voronoi_plot_2d(vor, ax = ax, show_vertices = False, point_size = 10)\n",
    "    colors = np.linspace(0, 0.1, len(patches)+1)\n",
    "    collection = PatchCollection(patches, alpha=1, cmap = 'gist_gray', lw = 4)\n",
    "    collection.set_array(np.array([colors[0]]*7))\n",
    "    collection.set_facecolor('none')\n",
    "    collection.set_edgecolor([(1,1,1)])\n",
    "\n",
    "    ax.add_collection(collection)\n",
    "    for i in centres:\n",
    "        plt.scatter(i[0],i[1], marker = 'x', s = 30, color = 'black')\n",
    "\n",
    "\n",
    "    for region in regions:\n",
    "        polygon = vertices[region]\n",
    "        plt.fill(*zip(*polygon), alpha=0.4)\n",
    "\n",
    "    plt.axis('equal')\n",
    "    plt.axis('off')\n",
    "    plt.xlim([xmin,xmax])\n",
    "    plt.ylim([ymin,ymax])\n",
    "    plt.savefig(\"vor\"+str(frame)+\".png\")\n",
    "    plt.show()\n",
    "    plt.close('all')"
   ]
  },
  {
   "cell_type": "code",
   "execution_count": 37,
   "metadata": {},
   "outputs": [
    {
     "name": "stderr",
     "output_type": "stream",
     "text": [
      "/home/pau/anaconda3/lib/python3.7/site-packages/scipy/spatial/_plotutils.py:20: MatplotlibDeprecationWarning: The ishold function was deprecated in version 2.0.\n",
      "  was_held = ax.ishold()\n"
     ]
    },
    {
     "data": {
      "image/png": "[encoded data removed]",
      "text/plain": [
       "<Figure size 432x288 with 1 Axes>"
      ]
     },
     "metadata": {
      "needs_background": "light"
     },
     "output_type": "display_data"
    }
   ],
   "source": [
    "hh(7000)"
   ]
  },
  {
   "cell_type": "code",
   "execution_count": 35,
   "metadata": {},
   "outputs": [
    {
     "data": {
      "application/vnd.jupyter.widget-view+json": {
       "model_id": "f573a6c31525421d8d2300f266e680c2",
       "version_major": 2,
       "version_minor": 0
      },
      "text/plain": [
       "HBox(children=(IntProgress(value=0, max=520), HTML(value='')))"
      ]
     },
     "metadata": {},
     "output_type": "display_data"
    },
    {
     "name": "stderr",
     "output_type": "stream",
     "text": [
      "/home/pau/anaconda3/lib/python3.7/site-packages/scipy/spatial/_plotutils.py:20: MatplotlibDeprecationWarning: The ishold function was deprecated in version 2.0.\n",
      "  was_held = ax.ishold()\n",
      "/home/pau/anaconda3/lib/python3.7/site-packages/matplotlib/pyplot.py:522: RuntimeWarning: More than 20 figures have been opened. Figures created through the pyplot interface (`matplotlib.pyplot.figure`) are retained until explicitly closed and may consume too much memory. (To control this warning, see the rcParam `figure.max_open_warning`).\n",
      "  max_open_warning, RuntimeWarning)\n"
     ]
    }
   ],
   "source": [
    "for i in t(range(1800,7000,10)):\n",
    "    try:\n",
    "        hh(i)\n",
    "    except:\n",
    "        pass"
   ]
  },
  {
   "cell_type": "code",
   "execution_count": null,
   "metadata": {},
   "outputs": [],
   "source": []
  },
  {
   "cell_type": "code",
   "execution_count": null,
   "metadata": {},
   "outputs": [],
   "source": []
  }
 ],
 "metadata": {
  "kernelspec": {
   "display_name": "Python 3",
   "language": "python",
   "name": "python3"
  },
  "language_info": {
   "codemirror_mode": {
    "name": "ipython",
    "version": 3
   },
   "file_extension": ".py",
   "mimetype": "text/x-python",
   "name": "python",
   "nbconvert_exporter": "python",
   "pygments_lexer": "ipython3",
   "version": "3.7.0"
  }
 },
 "nbformat": 4,
 "nbformat_minor": 2
}
