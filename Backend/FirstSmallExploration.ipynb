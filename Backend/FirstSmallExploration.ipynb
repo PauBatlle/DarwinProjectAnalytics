{
 "cells": [
  {
   "cell_type": "code",
   "execution_count": 19,
   "metadata": {},
   "outputs": [],
   "source": [
    "import pandas as pd\n",
    "import os"
   ]
  },
  {
   "cell_type": "code",
   "execution_count": 20,
   "metadata": {},
   "outputs": [],
   "source": [
    "dataframes = {}\n",
    "for i in os.listdir():\n",
    "    if i[-4:] == \".csv\":\n",
    "        dataframes[i[:-4]] = pd.read_csv(i)"
   ]
  },
  {
   "cell_type": "code",
   "execution_count": 13,
   "metadata": {},
   "outputs": [],
   "source": [
    "keys = dataframes.keys()"
   ]
  },
  {
   "cell_type": "code",
   "execution_count": null,
   "metadata": {},
   "outputs": [],
   "source": []
  },
  {
   "cell_type": "code",
   "execution_count": 18,
   "metadata": {
    "scrolled": true
   },
   "outputs": [
    {
     "name": "stdout",
     "output_type": "stream",
     "text": [
      "### player_session ### 1219\n",
      "   gameid        playerguid            sessionid  playername  \\\n",
      "0     185   Michelle_Rogers  2687592411372870805         NaN   \n",
      "1     185         Lori_Ross  2687592411372870805         NaN   \n",
      "2     185       Laura_Davis  2687592411372870805         NaN   \n",
      "3     185  Heidi_Walton_DDS  4959622521749720164         NaN   \n",
      "4     185        Amber_Hall  4959622521749755856         NaN   \n",
      "\n",
      "   session_duration_seconds  kills  deaths  longest_kill_streak  \\\n",
      "0                       202      0       0                    0   \n",
      "1                       447      0       1                    0   \n",
      "2                       741      0       1                    0   \n",
      "3                       247      0       0                    0   \n",
      "4                        60      0       0                    0   \n",
      "\n",
      "   average_kill_distance  shortest_kill_distance  longest_kill_distance  \\\n",
      "0                    0.0                     0.0                    0.0   \n",
      "1                    0.0                     0.0                    0.0   \n",
      "2                    0.0                     0.0                    0.0   \n",
      "3                    0.0                     0.0                    0.0   \n",
      "4                    0.0                     0.0                    0.0   \n",
      "\n",
      "   accuracy  \n",
      "0       0.0  \n",
      "1       0.0  \n",
      "2       0.0  \n",
      "3       0.0  \n",
      "4       0.0  \n",
      "******\n",
      "### player_ranking ### 3\n",
      "   gameid         playerguid   skill_level\n",
      "0     185  76561198198204866      Beginner\n",
      "1     185  76561198398395706  Intermediate\n",
      "2     185  76561198013949306      Advanced\n",
      "******\n",
      "### game_frame ### 3741614\n",
      "   gameid            sessionid  framenumber  frametime_ms  \\\n",
      "0     185  2687592411372870805         5433             0   \n",
      "1     185  2687592411372870805         5653          6890   \n",
      "2     185  2687592411372870805         5664           344   \n",
      "3     185  2687592411372870805         5715          1597   \n",
      "4     185  2687592411372870805         5764          1535   \n",
      "\n",
      "                                             players events  \n",
      "0  [{\"guid\": \"Lori_Ross\", \"state\": {\"character_id...    NaN  \n",
      "1  [{\"guid\": \"Lori_Ross\", \"state\": {\"character_id...    NaN  \n",
      "2  [{\"guid\": \"Jesus_Roberts\", \"state\": {\"characte...    NaN  \n",
      "3  [{\"guid\": \"Lori_Ross\", \"state\": {\"character_id...    NaN  \n",
      "4  [{\"guid\": \"Lori_Ross\", \"state\": {\"character_id...    NaN  \n",
      "******\n",
      "### weapon_desc ### 55\n",
      "   id                 name\n",
      "0   1             CampFire\n",
      "1   2                Armor\n",
      "2   3        WoodRessource\n",
      "3   4     LeatherRessource\n",
      "4   5  ElectronicRessource\n",
      "******\n",
      "### player_kill ### 2601\n",
      "   gameid   timestamp    server_ip  server_name        killer_guid  \\\n",
      "0     185  1542271482   176.57.0.0  GameSession  76561198137289456   \n",
      "1     185  1542271605  162.244.0.0  GameSession  76561198124223758   \n",
      "2     185  1542271623  162.244.0.0  GameSession  76561198797730160   \n",
      "3     185  1542271667   176.57.0.0  GameSession  76561198088349192   \n",
      "4     185  1542271671   176.57.0.0  GameSession  76561198062130779   \n",
      "\n",
      "         victim_guid                                             frames  \n",
      "0  76561198071381372  [{\"killer\": {\"tickflags\": 0, \"fov\": 90, \"posit...  \n",
      "1  76561198188131502  [{\"killer\": {\"tickflags\": 0, \"fov\": 90, \"posit...  \n",
      "2  76561198258586752  [{\"killer\": {\"tickflags\": 0, \"fov\": 90, \"posit...  \n",
      "3  76561198123513546  [{\"killer\": {\"tickflags\": 0, \"fov\": 90, \"posit...  \n",
      "4  76561198870484527  [{\"killer\": {\"tickflags\": 0, \"fov\": 90, \"posit...  \n",
      "******\n",
      "### player_state ### 7897012\n",
      "   gameid            sessionid     playerguid  framenumber  frametime_ms  \\\n",
      "0     185  2687592411372870805      Lori_Ross         5433             0   \n",
      "1     185  2687592411372870805      Lori_Ross         5653          6890   \n",
      "2     185  2687592411372870805  Jesus_Roberts         5664           344   \n",
      "3     185  2687592411372870805      Lori_Ross         5664           344   \n",
      "4     185  2687592411372870805      Lori_Ross         5715          1597   \n",
      "\n",
      "            posX         posY         posZ     viewW     viewX     viewY  \\\n",
      "0 -122429.656250 -3137.966309  2432.728516  0.546236  0.090341  0.059410   \n",
      "1 -124511.312500 -3208.429688  2434.120117 -0.469987  0.129939 -0.070177   \n",
      "2 -124727.515625 -2825.187500  2253.628174  1.000000  0.000000 -0.000192   \n",
      "3 -124641.054688 -3015.759521  2386.918701 -0.475728  0.132527 -0.072760   \n",
      "4 -125007.289062 -2196.545166  2423.564697 -0.526463  0.116451 -0.073071   \n",
      "\n",
      "      viewZ  tickflags  stateflags  fov  health  weapon_id  \n",
      "0 -0.830624          0           2   90       0         11  \n",
      "1 -0.870232          0           2   90       0         11  \n",
      "2  0.000000          0           4    0       0          0  \n",
      "3 -0.866502          0           0   90       0         11  \n",
      "4 -0.839009          0           2   90       0         11  \n",
      "******\n",
      "### game_session ### 144\n",
      "   gameid            sessionid    server_ip  server_name  time_started\n",
      "0     185  2687592411372870805   176.57.0.0  GameSession    1542271473\n",
      "1     185  4959622521749720164   176.57.0.0  GameSession    1542272070\n",
      "2     185  4959622521749755856   176.57.0.0  GameSession    1542272381\n",
      "3     185  4959622521749767844   139.99.0.0  GameSession    1542272486\n",
      "4     185  2009668275080423366  162.244.0.0  GameSession    1542239681\n",
      "******\n"
     ]
    }
   ],
   "source": [
    "for k in keys:\n",
    "    print(\"###\", k, \"###\", len(dataframes[k]))\n",
    "    print(dataframes[k].head())\n",
    "    print(\"******\")"
   ]
  },
  {
   "cell_type": "code",
   "execution_count": 89,
   "metadata": {},
   "outputs": [
    {
     "name": "stderr",
     "output_type": "stream",
     "text": [
      "/home/pau/anaconda3/lib/python3.7/site-packages/joblib/_multiprocessing_helpers.py:38: UserWarning: [Errno 12] Cannot allocate memory.  joblib will operate in serial mode\n",
      "  warnings.warn('%s.  joblib will operate in serial mode' % (e,))\n"
     ]
    }
   ],
   "source": [
    "import seaborn as sns"
   ]
  },
  {
   "cell_type": "code",
   "execution_count": 102,
   "metadata": {
    "scrolled": false
   },
   "outputs": [
    {
     "data": {
      "text/plain": [
       "'[{\"id\": 268435462, \"name\": \"powerstate\", \"data\": \"eyJldmVudGlkIjogMjY4NDM1NDYyLCAiZXZlbnRuYW1lIjogInBvd2Vyc3RhdGUiLCAicGxheWVyIjogIkplc3VzX1JvYmVydHMiLCAicG93ZXJfc3RhdGUiOiAwfQ==\"}]'"
      ]
     },
     "execution_count": 102,
     "metadata": {},
     "output_type": "execute_result"
    }
   ],
   "source": [
    "dataframes['game_frame'][dataframes['game_frame'].sessionid == dataframes['game_frame'].sessionid[0]].events.iloc[-7]"
   ]
  },
  {
   "cell_type": "code",
   "execution_count": null,
   "metadata": {},
   "outputs": [],
   "source": [
    "dataframes['game_frame']"
   ]
  },
  {
   "cell_type": "code",
   "execution_count": 67,
   "metadata": {
    "collapsed": true
   },
   "outputs": [
    {
     "data": {
      "text/plain": [
       "76561198272443248    20\n",
       "76561198367802203    20\n",
       "76561198250943806    18\n",
       "76561198072469945    15\n",
       "76561198379532995    14\n",
       "76561198858234172    14\n",
       "76561198079670539    12\n",
       "76561198147908630    12\n",
       "76561198322065788    11\n",
       "76561198859498648    11\n",
       "76561198141211164    11\n",
       "76561198087385418    10\n",
       "76561198835135499    10\n",
       "76561198017448437    10\n",
       "76561198834974561    10\n",
       "76561198797730160    10\n",
       "76561198343494610     9\n",
       "76561198071564248     9\n",
       "76561198849987892     9\n",
       "76561198164100929     9\n",
       "76561198073547778     9\n",
       "76561198118192187     8\n",
       "76561198076352925     8\n",
       "76561198218018828     8\n",
       "76561198799975792     8\n",
       "76561198213352804     8\n",
       "76561198830804513     8\n",
       "76561198051962215     8\n",
       "76561198013460774     8\n",
       "76561198294204458     8\n",
       "                     ..\n",
       "76561198441374089     1\n",
       "76561198843086417     1\n",
       "76561198355595679     1\n",
       "76561198345132452     1\n",
       "76561198074294707     1\n",
       "76561198386891030     1\n",
       "76561198162823604     1\n",
       "76561198041268357     1\n",
       "76561198836813579     1\n",
       "76561198010409413     1\n",
       "76561198108473798     1\n",
       "76561198401917383     1\n",
       "76561198805213561     1\n",
       "76561198355763565     1\n",
       "76561198132392704     1\n",
       "76561198845479687     1\n",
       "76561198080598367     1\n",
       "76561198290792797     1\n",
       "76561198053984590     1\n",
       "76561198385420592     1\n",
       "76561198391529773     1\n",
       "76561197999943977     1\n",
       "76561198424537384     1\n",
       "76561198453626689     1\n",
       "76561198869974998     1\n",
       "76561197998195037     1\n",
       "76561198279518492     1\n",
       "76561198168510745     1\n",
       "76561197996542232     1\n",
       "76561198258921472     1\n",
       "Name: killer_guid, Length: 1447, dtype: int64"
      ]
     },
     "execution_count": 67,
     "metadata": {},
     "output_type": "execute_result"
    }
   ],
   "source": [
    "dataframes['player_kill'].killer_guid.value_counts()"
   ]
  },
  {
   "cell_type": "code",
   "execution_count": 33,
   "metadata": {},
   "outputs": [
    {
     "data": {
      "text/plain": [
       "str"
      ]
     },
     "execution_count": 33,
     "metadata": {},
     "output_type": "execute_result"
    }
   ],
   "source": [
    "type(st)"
   ]
  },
  {
   "cell_type": "code",
   "execution_count": 45,
   "metadata": {},
   "outputs": [],
   "source": [
    "import matplotlib.pyplot as plt\n",
    "%matplotlib inline"
   ]
  },
  {
   "cell_type": "code",
   "execution_count": 61,
   "metadata": {},
   "outputs": [],
   "source": [
    "xs = []\n",
    "ys = []\n",
    "xsv = []\n",
    "ysv = []\n",
    "for i in range(len(eval(st))):\n",
    "    xs.append(eval(st)[i]['killer']['position']['x'])\n",
    "    ys.append(eval(st)[i]['killer']['position']['y'])\n",
    "    xsv.append(eval(st)[i]['victim']['position']['x'])\n",
    "    ysv.append(eval(st)[i]['victim']['position']['y'])"
   ]
  },
  {
   "cell_type": "code",
   "execution_count": 57,
   "metadata": {},
   "outputs": [],
   "source": [
    "import numpy as np"
   ]
  },
  {
   "cell_type": "code",
   "execution_count": 62,
   "metadata": {},
   "outputs": [
    {
     "data": {
      "text/plain": [
       "<matplotlib.colorbar.Colorbar at 0x7f87ef6cf860>"
      ]
     },
     "execution_count": 62,
     "metadata": {},
     "output_type": "execute_result"
    },
    {
     "data": {
      "image/png": "[encoded data removed]",
      "text/plain": [
       "<Figure size 432x288 with 2 Axes>"
      ]
     },
     "metadata": {
      "needs_background": "light"
     },
     "output_type": "display_data"
    }
   ],
   "source": [
    "cm = plt.cm.get_cmap('RdYlBu')\n",
    "plt.scatter(xs, ys, c = np.linspace(0,1, len(xs)), cmap = cm)\n",
    "plt.scatter(xsv, ysv, c = np.linspace(0,1, len(xs)), cmap = cm)\n",
    "plt.colorbar()"
   ]
  },
  {
   "cell_type": "code",
   "execution_count": null,
   "metadata": {},
   "outputs": [],
   "source": []
  }
 ],
 "metadata": {
  "kernelspec": {
   "display_name": "Python 3",
   "language": "python",
   "name": "python3"
  },
  "language_info": {
   "codemirror_mode": {
    "name": "ipython",
    "version": 3
   },
   "file_extension": ".py",
   "mimetype": "text/x-python",
   "name": "python",
   "nbconvert_exporter": "python",
   "pygments_lexer": "ipython3",
   "version": "3.7.0"
  }
 },
 "nbformat": 4,
 "nbformat_minor": 2
}
